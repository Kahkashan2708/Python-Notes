{
 "cells": [
  {
   "cell_type": "markdown",
   "id": "83bb0b91",
   "metadata": {},
   "source": [
    "# Data Structures\n",
    "---"
   ]
  },
  {
   "cell_type": "markdown",
   "id": "5762a968",
   "metadata": {},
   "source": [
    "### **$$List$$**"
   ]
  },
  {
   "cell_type": "markdown",
   "id": "c7e46765",
   "metadata": {},
   "source": [
    "1. **list.append(x)** : Adds a single element to the end of the list"
   ]
  },
  {
   "cell_type": "code",
   "execution_count": 37,
   "id": "8b64dd81",
   "metadata": {},
   "outputs": [
    {
     "name": "stdout",
     "output_type": "stream",
     "text": [
      "[1, 2, 3, 4]\n"
     ]
    }
   ],
   "source": [
    "a= [1,2,3]\n",
    "a.append(4)\n",
    "print(a)"
   ]
  },
  {
   "cell_type": "markdown",
   "id": "2397061a",
   "metadata": {},
   "source": [
    "2. **list.extend(iterable)**: Adds all elements from another iterable (list, tuple, string etc.) to the list."
   ]
  },
  {
   "cell_type": "code",
   "execution_count": 38,
   "id": "d579cb95",
   "metadata": {},
   "outputs": [
    {
     "name": "stdout",
     "output_type": "stream",
     "text": [
      "[1, 2, 3, 4]\n"
     ]
    }
   ],
   "source": [
    "a=[1,2]\n",
    "a.extend([3,4])  # list\n",
    "print(a)"
   ]
  },
  {
   "cell_type": "code",
   "execution_count": 39,
   "id": "899385c9",
   "metadata": {},
   "outputs": [
    {
     "name": "stdout",
     "output_type": "stream",
     "text": [
      "[5, 6, 1, 2, 3]\n"
     ]
    }
   ],
   "source": [
    "b= [5,6]\n",
    "b.extend((1,2,3))  # tuple\n",
    "print(b)"
   ]
  },
  {
   "cell_type": "markdown",
   "id": "a7c77430",
   "metadata": {},
   "source": [
    "3. **list.insert(i,x)**: Inserts an element at a specific index (i: index) without replacing the existing elements."
   ]
  },
  {
   "cell_type": "code",
   "execution_count": 40,
   "id": "4c39a09c",
   "metadata": {},
   "outputs": [
    {
     "name": "stdout",
     "output_type": "stream",
     "text": [
      "[1, 2, 3]\n"
     ]
    }
   ],
   "source": [
    "a= [1,3]\n",
    "a.insert(1,2)  # insert 2 at index 1\n",
    "print(a)"
   ]
  },
  {
   "cell_type": "code",
   "execution_count": 41,
   "id": "a93f3212",
   "metadata": {},
   "outputs": [
    {
     "name": "stdout",
     "output_type": "stream",
     "text": [
      "['apple', 'banana', 'orange', 'cherry']\n"
     ]
    }
   ],
   "source": [
    "a = ['apple', 'banana', 'cherry']   \n",
    "a.insert(2, 'orange')\n",
    "print(a) "
   ]
  },
  {
   "cell_type": "markdown",
   "id": "e55bc5a3",
   "metadata": {},
   "source": [
    "4. **list.remove(x)**: Remove the first occurance of the value from the list"
   ]
  },
  {
   "cell_type": "code",
   "execution_count": 42,
   "id": "40e0e3a5",
   "metadata": {},
   "outputs": [
    {
     "name": "stdout",
     "output_type": "stream",
     "text": [
      "[1, 3, 4, 2]\n"
     ]
    }
   ],
   "source": [
    "a =[1,2,3,4,2]\n",
    "a.remove(2)\n",
    "print(a)"
   ]
  },
  {
   "cell_type": "markdown",
   "id": "3c4ae3f8",
   "metadata": {},
   "source": [
    "5. **list.pop([i])**: Removes and returns the element at index 'i'. If no index is given then removes the last item of the list."
   ]
  },
  {
   "cell_type": "code",
   "execution_count": 43,
   "id": "ef5a674c",
   "metadata": {},
   "outputs": [
    {
     "name": "stdout",
     "output_type": "stream",
     "text": [
      "[10, 20, 40, 50]\n"
     ]
    }
   ],
   "source": [
    "a = [10, 20, 30, 40, 50]\n",
    "a.pop(2)   # print 30\n",
    "print(a)"
   ]
  },
  {
   "cell_type": "markdown",
   "id": "d12039ff",
   "metadata": {},
   "source": [
    "6. **list.clear()**: Removes all the items making list empty."
   ]
  },
  {
   "cell_type": "code",
   "execution_count": 44,
   "id": "f4fcbc53",
   "metadata": {},
   "outputs": [
    {
     "name": "stdout",
     "output_type": "stream",
     "text": [
      "[]\n"
     ]
    }
   ],
   "source": [
    "a=[1,2,3,4,5]\n",
    "a.clear()\n",
    "print(a)"
   ]
  },
  {
   "cell_type": "markdown",
   "id": "c0baeccb",
   "metadata": {},
   "source": [
    "7. **list.index(x)**: Returns the index of the first occurance of x. Raises error if not found."
   ]
  },
  {
   "cell_type": "code",
   "execution_count": 45,
   "id": "7a2dcd35",
   "metadata": {},
   "outputs": [
    {
     "name": "stdout",
     "output_type": "stream",
     "text": [
      "2\n"
     ]
    }
   ],
   "source": [
    "a=[1,2,3,4,5]\n",
    "print(a.index(3))"
   ]
  },
  {
   "cell_type": "code",
   "execution_count": 46,
   "id": "22f1dcbe",
   "metadata": {},
   "outputs": [
    {
     "ename": "ValueError",
     "evalue": "6 is not in list",
     "output_type": "error",
     "traceback": [
      "\u001b[1;31m---------------------------------------------------------------------------\u001b[0m",
      "\u001b[1;31mValueError\u001b[0m                                Traceback (most recent call last)",
      "Cell \u001b[1;32mIn[46], line 1\u001b[0m\n\u001b[1;32m----> 1\u001b[0m \u001b[38;5;28mprint\u001b[39m(a\u001b[38;5;241m.\u001b[39mindex(\u001b[38;5;241m6\u001b[39m))\n",
      "\u001b[1;31mValueError\u001b[0m: 6 is not in list"
     ]
    }
   ],
   "source": [
    "print(a.index(6)) # give error"
   ]
  },
  {
   "cell_type": "markdown",
   "id": "ef349cc2",
   "metadata": {},
   "source": [
    "8. **list.count(x)**: Return the number of times a value appear in the list."
   ]
  },
  {
   "cell_type": "code",
   "execution_count": null,
   "id": "be107419",
   "metadata": {},
   "outputs": [
    {
     "name": "stdout",
     "output_type": "stream",
     "text": [
      "3\n"
     ]
    }
   ],
   "source": [
    "a=[1,2,3,4,3,5,6,3,7,8]\n",
    "print(a.count(3))"
   ]
  },
  {
   "cell_type": "markdown",
   "id": "03b2b791",
   "metadata": {},
   "source": [
    "9. **list.sort(key=None, reverse=False)**: Sorts the list in place (changes the original list)"
   ]
  },
  {
   "cell_type": "code",
   "execution_count": null,
   "id": "72e38d1c",
   "metadata": {},
   "outputs": [
    {
     "name": "stdout",
     "output_type": "stream",
     "text": [
      "[1, 2, 4, 5, 7, 8, 9]\n"
     ]
    }
   ],
   "source": [
    "a=[5,4,7,2,1,9,8]\n",
    "a.sort()\n",
    "print(a)"
   ]
  },
  {
   "cell_type": "code",
   "execution_count": 47,
   "id": "bcc38ac8",
   "metadata": {},
   "outputs": [
    {
     "name": "stdout",
     "output_type": "stream",
     "text": [
      "['aman', 'karan', 'kashish', 'sahil']\n"
     ]
    }
   ],
   "source": [
    "a=['kashish', 'karan', 'sahil', 'aman']\n",
    "a.sort()\n",
    "print(a)"
   ]
  },
  {
   "cell_type": "markdown",
   "id": "d1048c80",
   "metadata": {},
   "source": [
    "10. **list.reverse()**: Reversed the list order in place."
   ]
  },
  {
   "cell_type": "code",
   "execution_count": null,
   "id": "2dd8e36f",
   "metadata": {},
   "outputs": [
    {
     "name": "stdout",
     "output_type": "stream",
     "text": [
      "[7, 4, 3, 5, 2, 1]\n"
     ]
    }
   ],
   "source": [
    "a=[1,2,5,3,4,7]\n",
    "a.reverse()\n",
    "print(a)"
   ]
  },
  {
   "cell_type": "markdown",
   "id": "c55eb7dc",
   "metadata": {},
   "source": [
    "11. **list.copy**: Returns a shallow copy of the list."
   ]
  },
  {
   "cell_type": "code",
   "execution_count": 62,
   "id": "96b79b55",
   "metadata": {},
   "outputs": [
    {
     "name": "stdout",
     "output_type": "stream",
     "text": [
      "[1, 2, 3]\n"
     ]
    }
   ],
   "source": [
    "a = [1, 2, 3]\n",
    "b = a.copy()\n",
    "print(b)"
   ]
  },
  {
   "cell_type": "code",
   "execution_count": 65,
   "id": "9718f803",
   "metadata": {},
   "outputs": [],
   "source": [
    "b[0] =10"
   ]
  },
  {
   "cell_type": "code",
   "execution_count": 66,
   "id": "d09d9ba5",
   "metadata": {},
   "outputs": [
    {
     "name": "stdout",
     "output_type": "stream",
     "text": [
      "[1, 2, 3]\n",
      "[10, 2, 3, 4]\n"
     ]
    }
   ],
   "source": [
    "print(a)\n",
    "print(b)"
   ]
  },
  {
   "cell_type": "markdown",
   "id": "ba95369a",
   "metadata": {},
   "source": [
    "## Copy:\n",
    "There are two types of copy in python- 1. shallow copy, 2. Deep copy"
   ]
  },
  {
   "cell_type": "markdown",
   "id": "a8027d3c",
   "metadata": {},
   "source": [
    "* Shallow copy with immutable objects (like ints, strings, tuples) → no problem, originals don’t change.\n",
    "\n",
    "* Shallow copy with mutable objects (like lists, dicts, sets inside list) → both copies share inner objects, so modifying inside them affects both.\n",
    "\n",
    "* A deep copy creates a completely independent copy of the object and all nested objects. Changes in the copy do not affect the original."
   ]
  },
  {
   "cell_type": "code",
   "execution_count": 68,
   "id": "7cdb9da4",
   "metadata": {},
   "outputs": [
    {
     "name": "stdout",
     "output_type": "stream",
     "text": [
      "[[99, 2], [3, 4]]\n",
      "[[99, 2], [3, 4]]\n"
     ]
    }
   ],
   "source": [
    "a = [[1, 2], [3, 4]]\n",
    "b = a.copy()\n",
    "\n",
    "b[0][0] = 99   # modify inside nested list\n",
    "print(a)       # will change \n",
    "print(b)       \n",
    "\n",
    "# 'a changes too because the inner lists [1,2] and [3,4] are mutable objects"
   ]
  },
  {
   "cell_type": "markdown",
   "id": "ca297d00",
   "metadata": {},
   "source": [
    "---"
   ]
  },
  {
   "cell_type": "markdown",
   "id": "017129bb",
   "metadata": {},
   "source": [
    "**Stack** : A stack is a linear data structure that follows the Last In First Out (LIFO) principle. This means that the last element added to the stack is the first one to remove. "
   ]
  },
  {
   "cell_type": "code",
   "execution_count": 1,
   "id": "b0834dc9",
   "metadata": {},
   "outputs": [
    {
     "name": "stdout",
     "output_type": "stream",
     "text": [
      "[3, 4, 5, 6, 7]\n"
     ]
    },
    {
     "data": {
      "text/plain": [
       "7"
      ]
     },
     "execution_count": 1,
     "metadata": {},
     "output_type": "execute_result"
    }
   ],
   "source": [
    "stack = [3, 4, 5]\n",
    "stack.append(6)   # add 6 on top\n",
    "stack.append(7)   # add 7 on top\n",
    "print(stack)      \n",
    "\n",
    "stack.pop()  "
   ]
  },
  {
   "cell_type": "markdown",
   "id": "cdc1ad9d",
   "metadata": {},
   "source": [
    "**Queue**:A queue in data structures is a linear data structure that follows the First-In, First-Out (FIFO) principle. This means the element that is inserted first into the queue is the first one to be removed."
   ]
  },
  {
   "cell_type": "markdown",
   "id": "98e60147",
   "metadata": {},
   "source": [
    "**collections.deque** :  is a class found within Python's collections module that implements a double-ended queue. This data structure allows for efficient addition and removal of elements from both ends "
   ]
  },
  {
   "cell_type": "code",
   "execution_count": 6,
   "id": "21d806ad",
   "metadata": {},
   "outputs": [
    {
     "name": "stdout",
     "output_type": "stream",
     "text": [
      "deque(['Eric', 'John', 'Michael', 'Terry', 'Graham'])\n"
     ]
    }
   ],
   "source": [
    "from collections import deque\n",
    "\n",
    "queue = deque([\"Eric\", \"John\", \"Michael\"])\n",
    "queue.append(\"Terry\")    \n",
    "queue.append(\"Graham\")   \n",
    "print(queue)             "
   ]
  },
  {
   "cell_type": "code",
   "execution_count": 7,
   "id": "21aa1784",
   "metadata": {},
   "outputs": [
    {
     "name": "stdout",
     "output_type": "stream",
     "text": [
      "deque(['John', 'Michael', 'Terry', 'Graham'])\n"
     ]
    }
   ],
   "source": [
    "queue.popleft()          # Eric leaves first\n",
    "print(queue)"
   ]
  },
  {
   "cell_type": "code",
   "execution_count": 8,
   "id": "e527db5c",
   "metadata": {},
   "outputs": [
    {
     "name": "stdout",
     "output_type": "stream",
     "text": [
      "deque(['John', 'Michael', 'Terry'])\n"
     ]
    }
   ],
   "source": [
    "queue.pop()\n",
    "print(queue)"
   ]
  },
  {
   "cell_type": "markdown",
   "id": "b7fc498d",
   "metadata": {},
   "source": [
    "**List Comprehensions**: It is a concise way to create lists. Instead of using loops like for with append(), we can build a list in a single line."
   ]
  },
  {
   "cell_type": "code",
   "execution_count": 9,
   "id": "79c216a6",
   "metadata": {},
   "outputs": [],
   "source": [
    "## Syntax\n",
    "# [expression for item in iterable if condition]"
   ]
  },
  {
   "cell_type": "code",
   "execution_count": 11,
   "id": "459f85c8",
   "metadata": {},
   "outputs": [
    {
     "name": "stdout",
     "output_type": "stream",
     "text": [
      "[0, 1, 4, 9, 16]\n"
     ]
    }
   ],
   "source": [
    "# Sauare Numbers (basic loop way)\n",
    "\n",
    "squares =[]\n",
    "for i in range(5):\n",
    "    squares.append(i**2)\n",
    "print(squares)"
   ]
  },
  {
   "cell_type": "code",
   "execution_count": 12,
   "id": "d4d6139f",
   "metadata": {},
   "outputs": [
    {
     "name": "stdout",
     "output_type": "stream",
     "text": [
      "[0, 1, 4, 9, 16]\n"
     ]
    }
   ],
   "source": [
    "# With list comprehension\n",
    "\n",
    "squares= [i**2 for i in range(5)]\n",
    "print(squares)"
   ]
  },
  {
   "cell_type": "code",
   "execution_count": 13,
   "id": "b8f85190",
   "metadata": {},
   "outputs": [
    {
     "name": "stdout",
     "output_type": "stream",
     "text": [
      "[0, 2, 4, 6, 8]\n"
     ]
    }
   ],
   "source": [
    "# Even Numbers\n",
    "\n",
    "even_numbers =[i for i in range(10) if i%2 ==0]\n",
    "print(even_numbers)"
   ]
  },
  {
   "cell_type": "code",
   "execution_count": 14,
   "id": "06d91c1b",
   "metadata": {},
   "outputs": [
    {
     "name": "stdout",
     "output_type": "stream",
     "text": [
      "['apple', 'mango', 'lichi', 'kiwi']\n"
     ]
    }
   ],
   "source": [
    "# String Example\n",
    "\n",
    "words =['apple', 'banana', 'mango', 'cherry', 'grapes', 'lichi', 'kiwi']\n",
    "short_words = [w for w in words if len(w) <= 5]\n",
    "print(short_words)\n"
   ]
  },
  {
   "cell_type": "code",
   "execution_count": 15,
   "id": "1dbe3c53",
   "metadata": {},
   "outputs": [
    {
     "data": {
      "text/plain": [
       "[0, 2, 4, 6]"
      ]
     },
     "execution_count": 15,
     "metadata": {},
     "output_type": "execute_result"
    }
   ],
   "source": [
    "# Filtering non neagtive numbers\n",
    "\n",
    "[x for x in [-4,-2,0,2,4,6,-7] if x>=0]"
   ]
  },
  {
   "cell_type": "code",
   "execution_count": null,
   "id": "3c611b0b",
   "metadata": {},
   "outputs": [
    {
     "data": {
      "text/plain": [
       "['banana', 'loganberry', 'passion fruit']"
      ]
     },
     "execution_count": 16,
     "metadata": {},
     "output_type": "execute_result"
    }
   ],
   "source": [
    "# Remove spaces from string\n",
    "# The strip() method removes left and right whitespace\n",
    "fruits = ['  banana', '  loganberry ', 'passion fruit  ']\n",
    "[fruit.strip() for fruit in fruits]"
   ]
  },
  {
   "cell_type": "code",
   "execution_count": 17,
   "id": "9d64f104",
   "metadata": {},
   "outputs": [
    {
     "data": {
      "text/plain": [
       "[(0, 0),\n",
       " (1, 1),\n",
       " (2, 4),\n",
       " (3, 9),\n",
       " (4, 16),\n",
       " (5, 25),\n",
       " (6, 36),\n",
       " (7, 49),\n",
       " (8, 64),\n",
       " (9, 81)]"
      ]
     },
     "execution_count": 17,
     "metadata": {},
     "output_type": "execute_result"
    }
   ],
   "source": [
    "# create pairs\n",
    "[(x,x**2) for x in range(10)]"
   ]
  },
  {
   "cell_type": "code",
   "execution_count": 18,
   "id": "1ffdbd0d",
   "metadata": {},
   "outputs": [
    {
     "data": {
      "text/plain": [
       "[1, 2, 3, 4, 5, 6, 7, 8, 9]"
      ]
     },
     "execution_count": 18,
     "metadata": {},
     "output_type": "execute_result"
    }
   ],
   "source": [
    "# Falttened a 2D list\n",
    "\n",
    "vec = [[1,2,3], [4,5,6], [7,8,9]]\n",
    "[num for elem in vec for num in elem]"
   ]
  },
  {
   "cell_type": "code",
   "execution_count": 19,
   "id": "19ea7857",
   "metadata": {},
   "outputs": [
    {
     "data": {
      "text/plain": [
       "[(1, 4), (1, 3), (2, 4), (2, 1), (2, 3), (3, 4), (3, 1)]"
      ]
     },
     "execution_count": 19,
     "metadata": {},
     "output_type": "execute_result"
    }
   ],
   "source": [
    "# Combine two lists if not equal\n",
    "[(x,y) for x in [1,2,3] for y in [4,1,3] if x!=y]"
   ]
  },
  {
   "cell_type": "code",
   "execution_count": 20,
   "id": "44cee0ff",
   "metadata": {},
   "outputs": [],
   "source": [
    "# longer version\n",
    "\n",
    "combs=[]\n",
    "for x in [1,2,3]:\n",
    "    for y in [4,1,3]:\n",
    "        if x!=y:\n",
    "            combs.append((x,y))"
   ]
  },
  {
   "cell_type": "code",
   "execution_count": null,
   "id": "88dbdcce",
   "metadata": {},
   "outputs": [],
   "source": []
  }
 ],
 "metadata": {
  "kernelspec": {
   "display_name": "Python 3",
   "language": "python",
   "name": "python3"
  },
  "language_info": {
   "codemirror_mode": {
    "name": "ipython",
    "version": 3
   },
   "file_extension": ".py",
   "mimetype": "text/x-python",
   "name": "python",
   "nbconvert_exporter": "python",
   "pygments_lexer": "ipython3",
   "version": "3.12.4"
  }
 },
 "nbformat": 4,
 "nbformat_minor": 5
}
