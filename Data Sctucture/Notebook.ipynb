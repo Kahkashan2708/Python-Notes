{
 "cells": [
  {
   "cell_type": "markdown",
   "id": "83bb0b91",
   "metadata": {},
   "source": [
    "# Data Structures\n",
    "---"
   ]
  },
  {
   "cell_type": "markdown",
   "id": "5762a968",
   "metadata": {},
   "source": [
    "### **$$List$$**"
   ]
  },
  {
   "cell_type": "markdown",
   "id": "c7e46765",
   "metadata": {},
   "source": [
    "1. **list.append(x)** : Adds a single element to the end of the list"
   ]
  },
  {
   "cell_type": "code",
   "execution_count": 37,
   "id": "8b64dd81",
   "metadata": {},
   "outputs": [
    {
     "name": "stdout",
     "output_type": "stream",
     "text": [
      "[1, 2, 3, 4]\n"
     ]
    }
   ],
   "source": [
    "a= [1,2,3]\n",
    "a.append(4)\n",
    "print(a)"
   ]
  },
  {
   "cell_type": "markdown",
   "id": "2397061a",
   "metadata": {},
   "source": [
    "2. **list.extend(iterable)**: Adds all elements from another iterable (list, tuple, string etc.) to the list."
   ]
  },
  {
   "cell_type": "code",
   "execution_count": 38,
   "id": "d579cb95",
   "metadata": {},
   "outputs": [
    {
     "name": "stdout",
     "output_type": "stream",
     "text": [
      "[1, 2, 3, 4]\n"
     ]
    }
   ],
   "source": [
    "a=[1,2]\n",
    "a.extend([3,4])  # list\n",
    "print(a)"
   ]
  },
  {
   "cell_type": "code",
   "execution_count": 39,
   "id": "899385c9",
   "metadata": {},
   "outputs": [
    {
     "name": "stdout",
     "output_type": "stream",
     "text": [
      "[5, 6, 1, 2, 3]\n"
     ]
    }
   ],
   "source": [
    "b= [5,6]\n",
    "b.extend((1,2,3))  # tuple\n",
    "print(b)"
   ]
  },
  {
   "cell_type": "markdown",
   "id": "a7c77430",
   "metadata": {},
   "source": [
    "3. **list.insert(i,x)**: Inserts an element at a specific index (i: index) without replacing the existing elements."
   ]
  },
  {
   "cell_type": "code",
   "execution_count": 40,
   "id": "4c39a09c",
   "metadata": {},
   "outputs": [
    {
     "name": "stdout",
     "output_type": "stream",
     "text": [
      "[1, 2, 3]\n"
     ]
    }
   ],
   "source": [
    "a= [1,3]\n",
    "a.insert(1,2)  # insert 2 at index 1\n",
    "print(a)"
   ]
  },
  {
   "cell_type": "code",
   "execution_count": 41,
   "id": "a93f3212",
   "metadata": {},
   "outputs": [
    {
     "name": "stdout",
     "output_type": "stream",
     "text": [
      "['apple', 'banana', 'orange', 'cherry']\n"
     ]
    }
   ],
   "source": [
    "a = ['apple', 'banana', 'cherry']   \n",
    "a.insert(2, 'orange')\n",
    "print(a) "
   ]
  },
  {
   "cell_type": "markdown",
   "id": "e55bc5a3",
   "metadata": {},
   "source": [
    "4. **list.remove(x)**: Remove the first occurance of the value from the list"
   ]
  },
  {
   "cell_type": "code",
   "execution_count": 42,
   "id": "40e0e3a5",
   "metadata": {},
   "outputs": [
    {
     "name": "stdout",
     "output_type": "stream",
     "text": [
      "[1, 3, 4, 2]\n"
     ]
    }
   ],
   "source": [
    "a =[1,2,3,4,2]\n",
    "a.remove(2)\n",
    "print(a)"
   ]
  },
  {
   "cell_type": "markdown",
   "id": "3c4ae3f8",
   "metadata": {},
   "source": [
    "5. **list.pop([i])**: Removes and returns the element at index 'i'. If no index is given then removes the last item of the list."
   ]
  },
  {
   "cell_type": "code",
   "execution_count": 43,
   "id": "ef5a674c",
   "metadata": {},
   "outputs": [
    {
     "name": "stdout",
     "output_type": "stream",
     "text": [
      "[10, 20, 40, 50]\n"
     ]
    }
   ],
   "source": [
    "a = [10, 20, 30, 40, 50]\n",
    "a.pop(2)   # print 30\n",
    "print(a)"
   ]
  },
  {
   "cell_type": "markdown",
   "id": "d12039ff",
   "metadata": {},
   "source": [
    "6. **list.clear()**: Removes all the items making list empty."
   ]
  },
  {
   "cell_type": "code",
   "execution_count": 44,
   "id": "f4fcbc53",
   "metadata": {},
   "outputs": [
    {
     "name": "stdout",
     "output_type": "stream",
     "text": [
      "[]\n"
     ]
    }
   ],
   "source": [
    "a=[1,2,3,4,5]\n",
    "a.clear()\n",
    "print(a)"
   ]
  },
  {
   "cell_type": "markdown",
   "id": "c0baeccb",
   "metadata": {},
   "source": [
    "7. **list.index(x)**: Returns the index of the first occurance of x. Raises error if not found."
   ]
  },
  {
   "cell_type": "code",
   "execution_count": 45,
   "id": "7a2dcd35",
   "metadata": {},
   "outputs": [
    {
     "name": "stdout",
     "output_type": "stream",
     "text": [
      "2\n"
     ]
    }
   ],
   "source": [
    "a=[1,2,3,4,5]\n",
    "print(a.index(3))"
   ]
  },
  {
   "cell_type": "code",
   "execution_count": 46,
   "id": "22f1dcbe",
   "metadata": {},
   "outputs": [
    {
     "ename": "ValueError",
     "evalue": "6 is not in list",
     "output_type": "error",
     "traceback": [
      "\u001b[1;31m---------------------------------------------------------------------------\u001b[0m",
      "\u001b[1;31mValueError\u001b[0m                                Traceback (most recent call last)",
      "Cell \u001b[1;32mIn[46], line 1\u001b[0m\n\u001b[1;32m----> 1\u001b[0m \u001b[38;5;28mprint\u001b[39m(a\u001b[38;5;241m.\u001b[39mindex(\u001b[38;5;241m6\u001b[39m))\n",
      "\u001b[1;31mValueError\u001b[0m: 6 is not in list"
     ]
    }
   ],
   "source": [
    "print(a.index(6)) # give error"
   ]
  },
  {
   "cell_type": "markdown",
   "id": "ef349cc2",
   "metadata": {},
   "source": [
    "8. **list.count(x)**: Return the number of times a value appear in the list."
   ]
  },
  {
   "cell_type": "code",
   "execution_count": null,
   "id": "be107419",
   "metadata": {},
   "outputs": [
    {
     "name": "stdout",
     "output_type": "stream",
     "text": [
      "3\n"
     ]
    }
   ],
   "source": [
    "a=[1,2,3,4,3,5,6,3,7,8]\n",
    "print(a.count(3))"
   ]
  },
  {
   "cell_type": "markdown",
   "id": "03b2b791",
   "metadata": {},
   "source": [
    "9. **list.sort(key=None, reverse=False)**: Sorts the list in place (changes the original list)"
   ]
  },
  {
   "cell_type": "code",
   "execution_count": null,
   "id": "72e38d1c",
   "metadata": {},
   "outputs": [
    {
     "name": "stdout",
     "output_type": "stream",
     "text": [
      "[1, 2, 4, 5, 7, 8, 9]\n"
     ]
    }
   ],
   "source": [
    "a=[5,4,7,2,1,9,8]\n",
    "a.sort()\n",
    "print(a)"
   ]
  },
  {
   "cell_type": "code",
   "execution_count": 47,
   "id": "bcc38ac8",
   "metadata": {},
   "outputs": [
    {
     "name": "stdout",
     "output_type": "stream",
     "text": [
      "['aman', 'karan', 'kashish', 'sahil']\n"
     ]
    }
   ],
   "source": [
    "a=['kashish', 'karan', 'sahil', 'aman']\n",
    "a.sort()\n",
    "print(a)"
   ]
  },
  {
   "cell_type": "markdown",
   "id": "d1048c80",
   "metadata": {},
   "source": [
    "10. **list.reverse()**: Reversed the list order in place."
   ]
  },
  {
   "cell_type": "code",
   "execution_count": null,
   "id": "2dd8e36f",
   "metadata": {},
   "outputs": [
    {
     "name": "stdout",
     "output_type": "stream",
     "text": [
      "[7, 4, 3, 5, 2, 1]\n"
     ]
    }
   ],
   "source": [
    "a=[1,2,5,3,4,7]\n",
    "a.reverse()\n",
    "print(a)"
   ]
  },
  {
   "cell_type": "markdown",
   "id": "c55eb7dc",
   "metadata": {},
   "source": [
    "11. **list.copy**: Returns a shallow copy of the list."
   ]
  },
  {
   "cell_type": "code",
   "execution_count": 62,
   "id": "96b79b55",
   "metadata": {},
   "outputs": [
    {
     "name": "stdout",
     "output_type": "stream",
     "text": [
      "[1, 2, 3]\n"
     ]
    }
   ],
   "source": [
    "a = [1, 2, 3]\n",
    "b = a.copy()\n",
    "print(b)"
   ]
  },
  {
   "cell_type": "code",
   "execution_count": 65,
   "id": "9718f803",
   "metadata": {},
   "outputs": [],
   "source": [
    "b[0] =10"
   ]
  },
  {
   "cell_type": "code",
   "execution_count": 66,
   "id": "d09d9ba5",
   "metadata": {},
   "outputs": [
    {
     "name": "stdout",
     "output_type": "stream",
     "text": [
      "[1, 2, 3]\n",
      "[10, 2, 3, 4]\n"
     ]
    }
   ],
   "source": [
    "print(a)\n",
    "print(b)"
   ]
  },
  {
   "cell_type": "markdown",
   "id": "ba95369a",
   "metadata": {},
   "source": [
    "## Copy:\n",
    "There are two types of copy in python- 1. shallow copy, 2. Deep copy"
   ]
  },
  {
   "cell_type": "markdown",
   "id": "a8027d3c",
   "metadata": {},
   "source": [
    "* Shallow copy with immutable objects (like ints, strings, tuples) → no problem, originals don’t change.\n",
    "\n",
    "* Shallow copy with mutable objects (like lists, dicts, sets inside list) → both copies share inner objects, so modifying inside them affects both."
   ]
  },
  {
   "cell_type": "code",
   "execution_count": 68,
   "id": "7cdb9da4",
   "metadata": {},
   "outputs": [
    {
     "name": "stdout",
     "output_type": "stream",
     "text": [
      "[[99, 2], [3, 4]]\n",
      "[[99, 2], [3, 4]]\n"
     ]
    }
   ],
   "source": [
    "a = [[1, 2], [3, 4]]\n",
    "b = a.copy()\n",
    "\n",
    "b[0][0] = 99   # modify inside nested list\n",
    "print(a)       # will change \n",
    "print(b)       \n",
    "\n",
    "# 'a changes too because the inner lists [1,2] and [3,4] are mutable objects"
   ]
  }
 ],
 "metadata": {
  "kernelspec": {
   "display_name": "Python 3",
   "language": "python",
   "name": "python3"
  },
  "language_info": {
   "codemirror_mode": {
    "name": "ipython",
    "version": 3
   },
   "file_extension": ".py",
   "mimetype": "text/x-python",
   "name": "python",
   "nbconvert_exporter": "python",
   "pygments_lexer": "ipython3",
   "version": "3.12.4"
  }
 },
 "nbformat": 4,
 "nbformat_minor": 5
}
