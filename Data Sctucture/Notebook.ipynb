{
 "cells": [
  {
   "cell_type": "markdown",
   "id": "83bb0b91",
   "metadata": {},
   "source": [
    "# Data Structures\n",
    "---"
   ]
  },
  {
   "cell_type": "markdown",
   "id": "5762a968",
   "metadata": {},
   "source": [
    "### **$$List$$**"
   ]
  },
  {
   "cell_type": "markdown",
   "id": "c7e46765",
   "metadata": {},
   "source": [
    "1. **list.append(x)** : Adds a single element to the end of the list"
   ]
  },
  {
   "cell_type": "code",
   "execution_count": 37,
   "id": "8b64dd81",
   "metadata": {},
   "outputs": [
    {
     "name": "stdout",
     "output_type": "stream",
     "text": [
      "[1, 2, 3, 4]\n"
     ]
    }
   ],
   "source": [
    "a= [1,2,3]\n",
    "a.append(4)\n",
    "print(a)"
   ]
  },
  {
   "cell_type": "markdown",
   "id": "2397061a",
   "metadata": {},
   "source": [
    "2. **list.extend(iterable)**: Adds all elements from another iterable (list, tuple, string etc.) to the list."
   ]
  },
  {
   "cell_type": "code",
   "execution_count": 38,
   "id": "d579cb95",
   "metadata": {},
   "outputs": [
    {
     "name": "stdout",
     "output_type": "stream",
     "text": [
      "[1, 2, 3, 4]\n"
     ]
    }
   ],
   "source": [
    "a=[1,2]\n",
    "a.extend([3,4])  # list\n",
    "print(a)"
   ]
  },
  {
   "cell_type": "code",
   "execution_count": 39,
   "id": "899385c9",
   "metadata": {},
   "outputs": [
    {
     "name": "stdout",
     "output_type": "stream",
     "text": [
      "[5, 6, 1, 2, 3]\n"
     ]
    }
   ],
   "source": [
    "b= [5,6]\n",
    "b.extend((1,2,3))  # tuple\n",
    "print(b)"
   ]
  },
  {
   "cell_type": "markdown",
   "id": "a7c77430",
   "metadata": {},
   "source": [
    "3. **list.insert(i,x)**: Inserts an element at a specific index (i: index) without replacing the existing elements."
   ]
  },
  {
   "cell_type": "code",
   "execution_count": 40,
   "id": "4c39a09c",
   "metadata": {},
   "outputs": [
    {
     "name": "stdout",
     "output_type": "stream",
     "text": [
      "[1, 2, 3]\n"
     ]
    }
   ],
   "source": [
    "a= [1,3]\n",
    "a.insert(1,2)  # insert 2 at index 1\n",
    "print(a)"
   ]
  },
  {
   "cell_type": "code",
   "execution_count": 41,
   "id": "a93f3212",
   "metadata": {},
   "outputs": [
    {
     "name": "stdout",
     "output_type": "stream",
     "text": [
      "['apple', 'banana', 'orange', 'cherry']\n"
     ]
    }
   ],
   "source": [
    "a = ['apple', 'banana', 'cherry']   \n",
    "a.insert(2, 'orange')\n",
    "print(a) "
   ]
  },
  {
   "cell_type": "markdown",
   "id": "e55bc5a3",
   "metadata": {},
   "source": [
    "4. **list.remove(x)**: Remove the first occurance of the value from the list"
   ]
  },
  {
   "cell_type": "code",
   "execution_count": 42,
   "id": "40e0e3a5",
   "metadata": {},
   "outputs": [
    {
     "name": "stdout",
     "output_type": "stream",
     "text": [
      "[1, 3, 4, 2]\n"
     ]
    }
   ],
   "source": [
    "a =[1,2,3,4,2]\n",
    "a.remove(2)\n",
    "print(a)"
   ]
  },
  {
   "cell_type": "markdown",
   "id": "3c4ae3f8",
   "metadata": {},
   "source": [
    "5. **list.pop([i])**: Removes and returns the element at index 'i'. If no index is given then removes the last item of the list."
   ]
  },
  {
   "cell_type": "code",
   "execution_count": 43,
   "id": "ef5a674c",
   "metadata": {},
   "outputs": [
    {
     "name": "stdout",
     "output_type": "stream",
     "text": [
      "[10, 20, 40, 50]\n"
     ]
    }
   ],
   "source": [
    "a = [10, 20, 30, 40, 50]\n",
    "a.pop(2)   # print 30\n",
    "print(a)"
   ]
  },
  {
   "cell_type": "markdown",
   "id": "d12039ff",
   "metadata": {},
   "source": [
    "6. **list.clear()**: Removes all the items making list empty."
   ]
  },
  {
   "cell_type": "code",
   "execution_count": 44,
   "id": "f4fcbc53",
   "metadata": {},
   "outputs": [
    {
     "name": "stdout",
     "output_type": "stream",
     "text": [
      "[]\n"
     ]
    }
   ],
   "source": [
    "a=[1,2,3,4,5]\n",
    "a.clear()\n",
    "print(a)"
   ]
  },
  {
   "cell_type": "markdown",
   "id": "c0baeccb",
   "metadata": {},
   "source": [
    "7. **list.index(x)**: Returns the index of the first occurance of x. Raises error if not found."
   ]
  },
  {
   "cell_type": "code",
   "execution_count": 45,
   "id": "7a2dcd35",
   "metadata": {},
   "outputs": [
    {
     "name": "stdout",
     "output_type": "stream",
     "text": [
      "2\n"
     ]
    }
   ],
   "source": [
    "a=[1,2,3,4,5]\n",
    "print(a.index(3))"
   ]
  },
  {
   "cell_type": "code",
   "execution_count": 46,
   "id": "22f1dcbe",
   "metadata": {},
   "outputs": [
    {
     "ename": "ValueError",
     "evalue": "6 is not in list",
     "output_type": "error",
     "traceback": [
      "\u001b[1;31m---------------------------------------------------------------------------\u001b[0m",
      "\u001b[1;31mValueError\u001b[0m                                Traceback (most recent call last)",
      "Cell \u001b[1;32mIn[46], line 1\u001b[0m\n\u001b[1;32m----> 1\u001b[0m \u001b[38;5;28mprint\u001b[39m(a\u001b[38;5;241m.\u001b[39mindex(\u001b[38;5;241m6\u001b[39m))\n",
      "\u001b[1;31mValueError\u001b[0m: 6 is not in list"
     ]
    }
   ],
   "source": [
    "print(a.index(6)) # give error"
   ]
  },
  {
   "cell_type": "markdown",
   "id": "ef349cc2",
   "metadata": {},
   "source": [
    "8. **list.count(x)**: Return the number of times a value appear in the list."
   ]
  },
  {
   "cell_type": "code",
   "execution_count": null,
   "id": "be107419",
   "metadata": {},
   "outputs": [
    {
     "name": "stdout",
     "output_type": "stream",
     "text": [
      "3\n"
     ]
    }
   ],
   "source": [
    "a=[1,2,3,4,3,5,6,3,7,8]\n",
    "print(a.count(3))"
   ]
  },
  {
   "cell_type": "markdown",
   "id": "03b2b791",
   "metadata": {},
   "source": [
    "9. **list.sort(key=None, reverse=False)**: Sorts the list in place (changes the original list)"
   ]
  },
  {
   "cell_type": "code",
   "execution_count": null,
   "id": "72e38d1c",
   "metadata": {},
   "outputs": [
    {
     "name": "stdout",
     "output_type": "stream",
     "text": [
      "[1, 2, 4, 5, 7, 8, 9]\n"
     ]
    }
   ],
   "source": [
    "a=[5,4,7,2,1,9,8]\n",
    "a.sort()\n",
    "print(a)"
   ]
  },
  {
   "cell_type": "code",
   "execution_count": 47,
   "id": "bcc38ac8",
   "metadata": {},
   "outputs": [
    {
     "name": "stdout",
     "output_type": "stream",
     "text": [
      "['aman', 'karan', 'kashish', 'sahil']\n"
     ]
    }
   ],
   "source": [
    "a=['kashish', 'karan', 'sahil', 'aman']\n",
    "a.sort()\n",
    "print(a)"
   ]
  },
  {
   "cell_type": "markdown",
   "id": "d1048c80",
   "metadata": {},
   "source": [
    "10. **list.reverse()**: Reversed the list order in place."
   ]
  },
  {
   "cell_type": "code",
   "execution_count": null,
   "id": "2dd8e36f",
   "metadata": {},
   "outputs": [
    {
     "name": "stdout",
     "output_type": "stream",
     "text": [
      "[7, 4, 3, 5, 2, 1]\n"
     ]
    }
   ],
   "source": [
    "a=[1,2,5,3,4,7]\n",
    "a.reverse()\n",
    "print(a)"
   ]
  },
  {
   "cell_type": "markdown",
   "id": "c55eb7dc",
   "metadata": {},
   "source": [
    "11. **list.copy**: Returns a shallow copy of the list."
   ]
  },
  {
   "cell_type": "code",
   "execution_count": 62,
   "id": "96b79b55",
   "metadata": {},
   "outputs": [
    {
     "name": "stdout",
     "output_type": "stream",
     "text": [
      "[1, 2, 3]\n"
     ]
    }
   ],
   "source": [
    "a = [1, 2, 3]\n",
    "b = a.copy()\n",
    "print(b)"
   ]
  },
  {
   "cell_type": "code",
   "execution_count": 65,
   "id": "9718f803",
   "metadata": {},
   "outputs": [],
   "source": [
    "b[0] =10"
   ]
  },
  {
   "cell_type": "code",
   "execution_count": 66,
   "id": "d09d9ba5",
   "metadata": {},
   "outputs": [
    {
     "name": "stdout",
     "output_type": "stream",
     "text": [
      "[1, 2, 3]\n",
      "[10, 2, 3, 4]\n"
     ]
    }
   ],
   "source": [
    "print(a)\n",
    "print(b)"
   ]
  },
  {
   "cell_type": "markdown",
   "id": "ba95369a",
   "metadata": {},
   "source": [
    "## Copy:\n",
    "There are two types of copy in python- 1. shallow copy, 2. Deep copy"
   ]
  },
  {
   "cell_type": "markdown",
   "id": "a8027d3c",
   "metadata": {},
   "source": [
    "* Shallow copy with immutable objects (like ints, strings, tuples) → no problem, originals don’t change.\n",
    "\n",
    "* Shallow copy with mutable objects (like lists, dicts, sets inside list) → both copies share inner objects, so modifying inside them affects both.\n",
    "\n",
    "* A deep copy creates a completely independent copy of the object and all nested objects. Changes in the copy do not affect the original."
   ]
  },
  {
   "cell_type": "code",
   "execution_count": 68,
   "id": "7cdb9da4",
   "metadata": {},
   "outputs": [
    {
     "name": "stdout",
     "output_type": "stream",
     "text": [
      "[[99, 2], [3, 4]]\n",
      "[[99, 2], [3, 4]]\n"
     ]
    }
   ],
   "source": [
    "a = [[1, 2], [3, 4]]\n",
    "b = a.copy()\n",
    "\n",
    "b[0][0] = 99   # modify inside nested list\n",
    "print(a)       # will change \n",
    "print(b)       \n",
    "\n",
    "# 'a changes too because the inner lists [1,2] and [3,4] are mutable objects"
   ]
  },
  {
   "cell_type": "markdown",
   "id": "ca297d00",
   "metadata": {},
   "source": [
    "---"
   ]
  },
  {
   "cell_type": "markdown",
   "id": "017129bb",
   "metadata": {},
   "source": [
    "**Stack** : A stack is a linear data structure that follows the Last In First Out (LIFO) principle. This means that the last element added to the stack is the first one to remove. "
   ]
  },
  {
   "cell_type": "code",
   "execution_count": 1,
   "id": "b0834dc9",
   "metadata": {},
   "outputs": [
    {
     "name": "stdout",
     "output_type": "stream",
     "text": [
      "[3, 4, 5, 6, 7]\n"
     ]
    },
    {
     "data": {
      "text/plain": [
       "7"
      ]
     },
     "execution_count": 1,
     "metadata": {},
     "output_type": "execute_result"
    }
   ],
   "source": [
    "stack = [3, 4, 5]\n",
    "stack.append(6)   # add 6 on top\n",
    "stack.append(7)   # add 7 on top\n",
    "print(stack)      \n",
    "\n",
    "stack.pop()  "
   ]
  },
  {
   "cell_type": "markdown",
   "id": "cdc1ad9d",
   "metadata": {},
   "source": [
    "**Queue**:A queue in data structures is a linear data structure that follows the First-In, First-Out (FIFO) principle. This means the element that is inserted first into the queue is the first one to be removed."
   ]
  },
  {
   "cell_type": "markdown",
   "id": "98e60147",
   "metadata": {},
   "source": [
    "**collections.deque** :  is a class found within Python's collections module that implements a double-ended queue. This data structure allows for efficient addition and removal of elements from both ends "
   ]
  },
  {
   "cell_type": "code",
   "execution_count": 6,
   "id": "21d806ad",
   "metadata": {},
   "outputs": [
    {
     "name": "stdout",
     "output_type": "stream",
     "text": [
      "deque(['Eric', 'John', 'Michael', 'Terry', 'Graham'])\n"
     ]
    }
   ],
   "source": [
    "from collections import deque\n",
    "\n",
    "queue = deque([\"Eric\", \"John\", \"Michael\"])\n",
    "queue.append(\"Terry\")    \n",
    "queue.append(\"Graham\")   \n",
    "print(queue)             "
   ]
  },
  {
   "cell_type": "code",
   "execution_count": 7,
   "id": "21aa1784",
   "metadata": {},
   "outputs": [
    {
     "name": "stdout",
     "output_type": "stream",
     "text": [
      "deque(['John', 'Michael', 'Terry', 'Graham'])\n"
     ]
    }
   ],
   "source": [
    "queue.popleft()          # Eric leaves first\n",
    "print(queue)"
   ]
  },
  {
   "cell_type": "code",
   "execution_count": 8,
   "id": "e527db5c",
   "metadata": {},
   "outputs": [
    {
     "name": "stdout",
     "output_type": "stream",
     "text": [
      "deque(['John', 'Michael', 'Terry'])\n"
     ]
    }
   ],
   "source": [
    "queue.pop()\n",
    "print(queue)"
   ]
  },
  {
   "cell_type": "markdown",
   "id": "b7fc498d",
   "metadata": {},
   "source": [
    "**List Comprehensions**: It is a concise way to create lists. Instead of using loops like for with append(), we can build a list in a single line."
   ]
  },
  {
   "cell_type": "code",
   "execution_count": 9,
   "id": "79c216a6",
   "metadata": {},
   "outputs": [],
   "source": [
    "## Syntax\n",
    "# [expression for item in iterable if condition]"
   ]
  },
  {
   "cell_type": "code",
   "execution_count": 11,
   "id": "459f85c8",
   "metadata": {},
   "outputs": [
    {
     "name": "stdout",
     "output_type": "stream",
     "text": [
      "[0, 1, 4, 9, 16]\n"
     ]
    }
   ],
   "source": [
    "# Sauare Numbers (basic loop way)\n",
    "\n",
    "squares =[]\n",
    "for i in range(5):\n",
    "    squares.append(i**2)\n",
    "print(squares)"
   ]
  },
  {
   "cell_type": "code",
   "execution_count": 12,
   "id": "d4d6139f",
   "metadata": {},
   "outputs": [
    {
     "name": "stdout",
     "output_type": "stream",
     "text": [
      "[0, 1, 4, 9, 16]\n"
     ]
    }
   ],
   "source": [
    "# With list comprehension\n",
    "\n",
    "squares= [i**2 for i in range(5)]\n",
    "print(squares)"
   ]
  },
  {
   "cell_type": "code",
   "execution_count": 13,
   "id": "b8f85190",
   "metadata": {},
   "outputs": [
    {
     "name": "stdout",
     "output_type": "stream",
     "text": [
      "[0, 2, 4, 6, 8]\n"
     ]
    }
   ],
   "source": [
    "# Even Numbers\n",
    "\n",
    "even_numbers =[i for i in range(10) if i%2 ==0]\n",
    "print(even_numbers)"
   ]
  },
  {
   "cell_type": "code",
   "execution_count": 14,
   "id": "06d91c1b",
   "metadata": {},
   "outputs": [
    {
     "name": "stdout",
     "output_type": "stream",
     "text": [
      "['apple', 'mango', 'lichi', 'kiwi']\n"
     ]
    }
   ],
   "source": [
    "# String Example\n",
    "\n",
    "words =['apple', 'banana', 'mango', 'cherry', 'grapes', 'lichi', 'kiwi']\n",
    "short_words = [w for w in words if len(w) <= 5]\n",
    "print(short_words)\n"
   ]
  },
  {
   "cell_type": "code",
   "execution_count": 15,
   "id": "1dbe3c53",
   "metadata": {},
   "outputs": [
    {
     "data": {
      "text/plain": [
       "[0, 2, 4, 6]"
      ]
     },
     "execution_count": 15,
     "metadata": {},
     "output_type": "execute_result"
    }
   ],
   "source": [
    "# Filtering non neagtive numbers\n",
    "\n",
    "[x for x in [-4,-2,0,2,4,6,-7] if x>=0]"
   ]
  },
  {
   "cell_type": "code",
   "execution_count": null,
   "id": "3c611b0b",
   "metadata": {},
   "outputs": [
    {
     "data": {
      "text/plain": [
       "['banana', 'loganberry', 'passion fruit']"
      ]
     },
     "execution_count": 16,
     "metadata": {},
     "output_type": "execute_result"
    }
   ],
   "source": [
    "# Remove spaces from string\n",
    "# The strip() method removes left and right whitespace\n",
    "fruits = ['  banana', '  loganberry ', 'passion fruit  ']\n",
    "[fruit.strip() for fruit in fruits]"
   ]
  },
  {
   "cell_type": "code",
   "execution_count": 17,
   "id": "9d64f104",
   "metadata": {},
   "outputs": [
    {
     "data": {
      "text/plain": [
       "[(0, 0),\n",
       " (1, 1),\n",
       " (2, 4),\n",
       " (3, 9),\n",
       " (4, 16),\n",
       " (5, 25),\n",
       " (6, 36),\n",
       " (7, 49),\n",
       " (8, 64),\n",
       " (9, 81)]"
      ]
     },
     "execution_count": 17,
     "metadata": {},
     "output_type": "execute_result"
    }
   ],
   "source": [
    "# create pairs\n",
    "[(x,x**2) for x in range(10)]"
   ]
  },
  {
   "cell_type": "code",
   "execution_count": 18,
   "id": "1ffdbd0d",
   "metadata": {},
   "outputs": [
    {
     "data": {
      "text/plain": [
       "[1, 2, 3, 4, 5, 6, 7, 8, 9]"
      ]
     },
     "execution_count": 18,
     "metadata": {},
     "output_type": "execute_result"
    }
   ],
   "source": [
    "# Falttened a 2D list\n",
    "\n",
    "vec = [[1,2,3], [4,5,6], [7,8,9]]\n",
    "[num for elem in vec for num in elem]"
   ]
  },
  {
   "cell_type": "code",
   "execution_count": 19,
   "id": "19ea7857",
   "metadata": {},
   "outputs": [
    {
     "data": {
      "text/plain": [
       "[(1, 4), (1, 3), (2, 4), (2, 1), (2, 3), (3, 4), (3, 1)]"
      ]
     },
     "execution_count": 19,
     "metadata": {},
     "output_type": "execute_result"
    }
   ],
   "source": [
    "# Combine two lists if not equal\n",
    "[(x,y) for x in [1,2,3] for y in [4,1,3] if x!=y]"
   ]
  },
  {
   "cell_type": "code",
   "execution_count": 20,
   "id": "44cee0ff",
   "metadata": {},
   "outputs": [],
   "source": [
    "# longer version\n",
    "\n",
    "combs=[]\n",
    "for x in [1,2,3]:\n",
    "    for y in [4,1,3]:\n",
    "        if x!=y:\n",
    "            combs.append((x,y))"
   ]
  },
  {
   "cell_type": "markdown",
   "id": "71486837",
   "metadata": {},
   "source": [
    "**Nested List Comprehensions**: A nested list comprehhension means one list comprehension inside another. "
   ]
  },
  {
   "cell_type": "code",
   "execution_count": 24,
   "id": "88dbdcce",
   "metadata": {},
   "outputs": [
    {
     "data": {
      "text/plain": [
       "[[1, 2, 3, 4], [5, 6, 7, 8], [9, 10, 11, 12]]"
      ]
     },
     "execution_count": 24,
     "metadata": {},
     "output_type": "execute_result"
    }
   ],
   "source": [
    "# Transpose of a Matrix\n",
    "matrix = [\n",
    "    [1,2,3,4],\n",
    "    [5,6,7,8],\n",
    "    [9,10,11,12]\n",
    "]\n",
    "matrix"
   ]
  },
  {
   "cell_type": "code",
   "execution_count": 25,
   "id": "c4d43a58",
   "metadata": {},
   "outputs": [
    {
     "data": {
      "text/plain": [
       "[[1, 5, 9], [2, 6, 10], [3, 7, 11], [4, 8, 12]]"
      ]
     },
     "execution_count": 25,
     "metadata": {},
     "output_type": "execute_result"
    }
   ],
   "source": [
    "[[row[i] for row in matrix] for i in range(4)]"
   ]
  },
  {
   "cell_type": "markdown",
   "id": "4ee86193",
   "metadata": {},
   "source": [
    "**del Statement**: del is used to delete by index, not by value. Unline pop(), it does not return the removed element."
   ]
  },
  {
   "cell_type": "code",
   "execution_count": 28,
   "id": "f4c38e4f",
   "metadata": {},
   "outputs": [
    {
     "name": "stdout",
     "output_type": "stream",
     "text": [
      "[1, 66.25, 333, 333, 1234.5]\n"
     ]
    }
   ],
   "source": [
    "a = [-1, 1, 66.25, 333, 333, 1234.5]\n",
    "del a[0]  \n",
    "print(a)"
   ]
  },
  {
   "cell_type": "code",
   "execution_count": 29,
   "id": "c3419fa3",
   "metadata": {},
   "outputs": [
    {
     "name": "stdout",
     "output_type": "stream",
     "text": [
      "[-1, 1, 333, 1234.5]\n"
     ]
    }
   ],
   "source": [
    "a = [-1, 1, 66.25, 333, 333, 1234.5]\n",
    "del a[2:4]  \n",
    "print(a)"
   ]
  },
  {
   "cell_type": "code",
   "execution_count": 30,
   "id": "230e54ec",
   "metadata": {},
   "outputs": [
    {
     "name": "stdout",
     "output_type": "stream",
     "text": [
      "[]\n"
     ]
    }
   ],
   "source": [
    "a = [-1, 1, 66.25, 333, 333, 1234.5]\n",
    "del a[:]  \n",
    "print(a)"
   ]
  },
  {
   "cell_type": "code",
   "execution_count": null,
   "id": "682d4894",
   "metadata": {},
   "outputs": [
    {
     "ename": "NameError",
     "evalue": "name 'a' is not defined",
     "output_type": "error",
     "traceback": [
      "\u001b[1;31m---------------------------------------------------------------------------\u001b[0m",
      "\u001b[1;31mNameError\u001b[0m                                 Traceback (most recent call last)",
      "Cell \u001b[1;32mIn[36], line 3\u001b[0m\n\u001b[0;32m      1\u001b[0m a \u001b[38;5;241m=\u001b[39m [\u001b[38;5;241m-\u001b[39m\u001b[38;5;241m1\u001b[39m, \u001b[38;5;241m1\u001b[39m, \u001b[38;5;241m66.25\u001b[39m, \u001b[38;5;241m333\u001b[39m, \u001b[38;5;241m333\u001b[39m, \u001b[38;5;241m1234.5\u001b[39m]\n\u001b[0;32m      2\u001b[0m \u001b[38;5;28;01mdel\u001b[39;00m a\n\u001b[1;32m----> 3\u001b[0m \u001b[38;5;28mprint\u001b[39m(a)\n",
      "\u001b[1;31mNameError\u001b[0m: name 'a' is not defined"
     ]
    }
   ],
   "source": [
    "a = [-1, 1, 66.25, 333, 333, 1234.5]\n",
    "del a\n",
    "print(a)  # name error"
   ]
  },
  {
   "cell_type": "markdown",
   "id": "64f67215",
   "metadata": {},
   "source": [
    "---"
   ]
  },
  {
   "cell_type": "markdown",
   "id": "51c48ab5",
   "metadata": {},
   "source": [
    "## Tuples & Sequences"
   ]
  },
  {
   "cell_type": "markdown",
   "id": "5cef056f",
   "metadata": {},
   "source": [
    "Lists and strings are both sequences in python(they support indexing, slicing etc.). Another type of sequence is the tuple."
   ]
  },
  {
   "cell_type": "markdown",
   "id": "1e43ba5c",
   "metadata": {},
   "source": [
    "**Tuple**: A tuple is a collection of ordered, immutable items in python.\n",
    "* Ordered -> the items have a fixed position(index). \n",
    "* Immutable -> We cannot change, add, or remove the items once the tuple is created."
   ]
  },
  {
   "cell_type": "code",
   "execution_count": null,
   "id": "8df8c22a",
   "metadata": {},
   "outputs": [],
   "source": [
    "# How to create tuple\n",
    "tuple = (1,2,3,4)   # using parenthesis\n",
    "tuple_1 = (5,)      # single element tuple \n",
    "tuple_2 = 6,7,8     # tuple without parenthesis"
   ]
  },
  {
   "cell_type": "code",
   "execution_count": 40,
   "id": "54203e66",
   "metadata": {},
   "outputs": [
    {
     "name": "stdout",
     "output_type": "stream",
     "text": [
      "(1, 2, 3, 4)\n",
      "(5,)\n",
      "(6, 7, 8)\n"
     ]
    }
   ],
   "source": [
    "print(tuple)\n",
    "print(tuple_1)\n",
    "print(tuple_2)"
   ]
  },
  {
   "cell_type": "code",
   "execution_count": 42,
   "id": "752c0bba",
   "metadata": {},
   "outputs": [
    {
     "name": "stdout",
     "output_type": "stream",
     "text": [
      "<class 'int'>\n"
     ]
    }
   ],
   "source": [
    "# this is not a single tuple\n",
    "not_tuple = (5) \n",
    "print(type(not_tuple))"
   ]
  },
  {
   "cell_type": "code",
   "execution_count": 43,
   "id": "2cc250f8",
   "metadata": {},
   "outputs": [
    {
     "data": {
      "text/plain": [
       "(1234, 63829, 'hello', '!')"
      ]
     },
     "execution_count": 43,
     "metadata": {},
     "output_type": "execute_result"
    }
   ],
   "source": [
    "t = 1234, 63829, 'hello', '!'\n",
    "t"
   ]
  },
  {
   "cell_type": "code",
   "execution_count": 44,
   "id": "be98f7a2",
   "metadata": {},
   "outputs": [
    {
     "data": {
      "text/plain": [
       "tuple"
      ]
     },
     "execution_count": 44,
     "metadata": {},
     "output_type": "execute_result"
    }
   ],
   "source": [
    "type(t)"
   ]
  },
  {
   "cell_type": "code",
   "execution_count": 46,
   "id": "bd3cdd6b",
   "metadata": {},
   "outputs": [
    {
     "data": {
      "text/plain": [
       "1234"
      ]
     },
     "execution_count": 46,
     "metadata": {},
     "output_type": "execute_result"
    }
   ],
   "source": [
    "t[0] # print the first item from tuple"
   ]
  },
  {
   "cell_type": "markdown",
   "id": "fe4dba39",
   "metadata": {},
   "source": [
    "**Nested Tuple**: A nested tuple is a tuple that containes a tuple inside it. "
   ]
  },
  {
   "cell_type": "code",
   "execution_count": null,
   "id": "4feca6b0",
   "metadata": {},
   "outputs": [
    {
     "data": {
      "text/plain": [
       "((1234, 63829, 'hello', '!'), (1, 2, 3, 4, 5))"
      ]
     },
     "execution_count": 47,
     "metadata": {},
     "output_type": "execute_result"
    }
   ],
   "source": [
    "u = t, (1, 2, 3, 4, 5)\n",
    "u"
   ]
  },
  {
   "cell_type": "code",
   "execution_count": 48,
   "id": "e5945307",
   "metadata": {},
   "outputs": [
    {
     "ename": "TypeError",
     "evalue": "'tuple' object does not support item assignment",
     "output_type": "error",
     "traceback": [
      "\u001b[1;31m---------------------------------------------------------------------------\u001b[0m",
      "\u001b[1;31mTypeError\u001b[0m                                 Traceback (most recent call last)",
      "Cell \u001b[1;32mIn[48], line 2\u001b[0m\n\u001b[0;32m      1\u001b[0m \u001b[38;5;66;03m# we cannot change the tuple elements\u001b[39;00m\n\u001b[1;32m----> 2\u001b[0m t[\u001b[38;5;241m0\u001b[39m] \u001b[38;5;241m=\u001b[39m \u001b[38;5;241m8888\u001b[39m\n",
      "\u001b[1;31mTypeError\u001b[0m: 'tuple' object does not support item assignment"
     ]
    }
   ],
   "source": [
    "# we cannot change the tuple elements\n",
    "t[0] = 8888"
   ]
  },
  {
   "cell_type": "markdown",
   "id": "1161be9b",
   "metadata": {},
   "source": [
    "##### Tuple can contain mutable things like lists. We can change the lists, but not the tuple structre itself."
   ]
  },
  {
   "cell_type": "code",
   "execution_count": 49,
   "id": "de3e966e",
   "metadata": {},
   "outputs": [
    {
     "data": {
      "text/plain": [
       "([1, 2, 3], [3, 2, 1])"
      ]
     },
     "execution_count": 49,
     "metadata": {},
     "output_type": "execute_result"
    }
   ],
   "source": [
    "v = ([1,2,3], [3,2,1])\n",
    "v"
   ]
  },
  {
   "cell_type": "code",
   "execution_count": 50,
   "id": "e47414f7",
   "metadata": {},
   "outputs": [],
   "source": [
    "v[0][1] = 5"
   ]
  },
  {
   "cell_type": "code",
   "execution_count": 51,
   "id": "9d4485ee",
   "metadata": {},
   "outputs": [
    {
     "name": "stdout",
     "output_type": "stream",
     "text": [
      "([1, 5, 3], [3, 2, 1])\n"
     ]
    }
   ],
   "source": [
    "print(v)"
   ]
  },
  {
   "cell_type": "code",
   "execution_count": 54,
   "id": "7acb0130",
   "metadata": {},
   "outputs": [
    {
     "name": "stdout",
     "output_type": "stream",
     "text": [
      "()\n",
      "('hello',)\n"
     ]
    }
   ],
   "source": [
    "# Empty tuple\n",
    "empty = ()\n",
    "\n",
    "# Single element tuple\n",
    "singleton = 'hello',\n",
    "\n",
    "print(empty)\n",
    "print(singleton)"
   ]
  },
  {
   "cell_type": "markdown",
   "id": "f31e5649",
   "metadata": {},
   "source": [
    "##### Tuple Paking and Unpacking"
   ]
  },
  {
   "cell_type": "code",
   "execution_count": 57,
   "id": "9caeea5d",
   "metadata": {},
   "outputs": [],
   "source": [
    "t= 1234, 53849, 'hello!' # packing"
   ]
  },
  {
   "cell_type": "code",
   "execution_count": null,
   "id": "c9ef6ab1",
   "metadata": {},
   "outputs": [
    {
     "name": "stdout",
     "output_type": "stream",
     "text": [
      "1234\n",
      "53849\n",
      "hello!\n"
     ]
    }
   ],
   "source": [
    "x, y, z = t\n",
    "print(x)\n",
    "print(y)\n",
    "print(z)"
   ]
  },
  {
   "cell_type": "markdown",
   "id": "5ca39809",
   "metadata": {},
   "source": [
    "---"
   ]
  },
  {
   "cell_type": "markdown",
   "id": "8b68ee3b",
   "metadata": {},
   "source": [
    "**Sets**: A set is an unordered collection with no duplicates.\n"
   ]
  },
  {
   "cell_type": "code",
   "execution_count": 73,
   "id": "037c77ef",
   "metadata": {},
   "outputs": [
    {
     "data": {
      "text/plain": [
       "set()"
      ]
     },
     "execution_count": 73,
     "metadata": {},
     "output_type": "execute_result"
    }
   ],
   "source": [
    "# Empty set\n",
    "empty_set = set()\n",
    "empty_set"
   ]
  },
  {
   "cell_type": "code",
   "execution_count": 58,
   "id": "cf3e4be3",
   "metadata": {},
   "outputs": [
    {
     "name": "stdout",
     "output_type": "stream",
     "text": [
      "{'orange', 'apple', 'pear', 'banana'}\n"
     ]
    }
   ],
   "source": [
    "basket = {'apple', 'orange', 'apple', 'pear', 'orange', 'banana'}\n",
    "print(basket)"
   ]
  },
  {
   "cell_type": "code",
   "execution_count": 59,
   "id": "cf36e4a6",
   "metadata": {},
   "outputs": [
    {
     "data": {
      "text/plain": [
       "True"
      ]
     },
     "execution_count": 59,
     "metadata": {},
     "output_type": "execute_result"
    }
   ],
   "source": [
    "'orange' in basket"
   ]
  },
  {
   "cell_type": "code",
   "execution_count": 60,
   "id": "5b8b18dc",
   "metadata": {},
   "outputs": [],
   "source": [
    "a = set('abracadabra')\n",
    "b = set('alacazam')"
   ]
  },
  {
   "cell_type": "code",
   "execution_count": 61,
   "id": "fbbd54b1",
   "metadata": {},
   "outputs": [
    {
     "name": "stdout",
     "output_type": "stream",
     "text": [
      "{'c', 'a', 'b', 'r', 'd'}\n",
      "{'z', 'c', 'a', 'm', 'l'}\n"
     ]
    }
   ],
   "source": [
    "print(a)\n",
    "print(b)"
   ]
  },
  {
   "cell_type": "code",
   "execution_count": 62,
   "id": "d44863f6",
   "metadata": {},
   "outputs": [
    {
     "data": {
      "text/plain": [
       "{'b', 'd', 'r'}"
      ]
     },
     "execution_count": 62,
     "metadata": {},
     "output_type": "execute_result"
    }
   ],
   "source": [
    "# letters in a but not in b\n",
    "a-b"
   ]
  },
  {
   "cell_type": "code",
   "execution_count": 63,
   "id": "87419657",
   "metadata": {},
   "outputs": [
    {
     "data": {
      "text/plain": [
       "{'a', 'b', 'c', 'd', 'l', 'm', 'r', 'z'}"
      ]
     },
     "execution_count": 63,
     "metadata": {},
     "output_type": "execute_result"
    }
   ],
   "source": [
    "# union\n",
    "a|b"
   ]
  },
  {
   "cell_type": "code",
   "execution_count": 65,
   "id": "63c86eca",
   "metadata": {},
   "outputs": [
    {
     "data": {
      "text/plain": [
       "{'a', 'c'}"
      ]
     },
     "execution_count": 65,
     "metadata": {},
     "output_type": "execute_result"
    }
   ],
   "source": [
    "a&b # intersection"
   ]
  },
  {
   "cell_type": "code",
   "execution_count": 66,
   "id": "0d059d7d",
   "metadata": {},
   "outputs": [
    {
     "data": {
      "text/plain": [
       "{'b', 'd', 'l', 'm', 'r', 'z'}"
      ]
     },
     "execution_count": 66,
     "metadata": {},
     "output_type": "execute_result"
    }
   ],
   "source": [
    "a^b  # letters in both a and b"
   ]
  },
  {
   "cell_type": "code",
   "execution_count": 67,
   "id": "0248f615",
   "metadata": {},
   "outputs": [],
   "source": [
    "# Set comprehension\n",
    "a = {x for x in 'abracadabra' if x not in 'abc'} "
   ]
  },
  {
   "cell_type": "markdown",
   "id": "ed89d2cb",
   "metadata": {},
   "source": [
    "---"
   ]
  },
  {
   "cell_type": "markdown",
   "id": "f07738bf",
   "metadata": {},
   "source": [
    "**Dictionary**: A dictionary is a collection of key:value pairs. Unlike lists or tuples, dictionaries are not indexed by numbers- they are indexed by keys. Keys can be any immutable type:\n",
    "* String: \"name\"\n",
    "* Nmbers: 42\n",
    "* Tuples.\n",
    "\n",
    "Keys cannot be list or mutable types. \n",
    "\n",
    "Values can be anything(mutable or immutable)"
   ]
  },
  {
   "cell_type": "code",
   "execution_count": 71,
   "id": "d16997dd",
   "metadata": {},
   "outputs": [],
   "source": [
    "# Empty Dictionary\n",
    "\n",
    "d={}"
   ]
  },
  {
   "cell_type": "code",
   "execution_count": 74,
   "id": "8e3c3e60",
   "metadata": {},
   "outputs": [],
   "source": [
    "tel={'jack': 2029, 'shape': 6382}"
   ]
  },
  {
   "cell_type": "code",
   "execution_count": 77,
   "id": "7debf34a",
   "metadata": {},
   "outputs": [],
   "source": [
    "tel['guido'] =5379"
   ]
  },
  {
   "cell_type": "code",
   "execution_count": 78,
   "id": "66153ec2",
   "metadata": {},
   "outputs": [
    {
     "data": {
      "text/plain": [
       "{'jack': 2029, 'shape': 6382, 'guido': 5379}"
      ]
     },
     "execution_count": 78,
     "metadata": {},
     "output_type": "execute_result"
    }
   ],
   "source": [
    "tel"
   ]
  },
  {
   "cell_type": "code",
   "execution_count": 79,
   "id": "a4595038",
   "metadata": {},
   "outputs": [
    {
     "data": {
      "text/plain": [
       "2029"
      ]
     },
     "execution_count": 79,
     "metadata": {},
     "output_type": "execute_result"
    }
   ],
   "source": [
    "tel['jack']"
   ]
  },
  {
   "cell_type": "code",
   "execution_count": 81,
   "id": "32aa9b1f",
   "metadata": {},
   "outputs": [],
   "source": [
    "# Deleting Items \n",
    "del tel['shape']  # removing key"
   ]
  },
  {
   "cell_type": "code",
   "execution_count": 82,
   "id": "67eb9230",
   "metadata": {},
   "outputs": [
    {
     "data": {
      "text/plain": [
       "{'jack': 2029, 'guido': 5379, 'irv': 4132}"
      ]
     },
     "execution_count": 82,
     "metadata": {},
     "output_type": "execute_result"
    }
   ],
   "source": [
    "tel['irv'] = 4132\n",
    "tel"
   ]
  },
  {
   "cell_type": "code",
   "execution_count": 83,
   "id": "f2e3a63b",
   "metadata": {},
   "outputs": [
    {
     "data": {
      "text/plain": [
       "['jack', 'guido', 'irv']"
      ]
     },
     "execution_count": 83,
     "metadata": {},
     "output_type": "execute_result"
    }
   ],
   "source": [
    "# Listing Keys (list of all the keys)\n",
    "list(tel)\n"
   ]
  },
  {
   "cell_type": "code",
   "execution_count": 87,
   "id": "3d0c597c",
   "metadata": {},
   "outputs": [
    {
     "data": {
      "text/plain": [
       "['guido', 'irv', 'jack']"
      ]
     },
     "execution_count": 87,
     "metadata": {},
     "output_type": "execute_result"
    }
   ],
   "source": [
    "sorted(tel)  # get a key in alphabetical order"
   ]
  },
  {
   "cell_type": "markdown",
   "id": "25c5de90",
   "metadata": {},
   "source": [
    "* Checking Keys"
   ]
  },
  {
   "cell_type": "code",
   "execution_count": 88,
   "id": "36c7d5a9",
   "metadata": {},
   "outputs": [
    {
     "data": {
      "text/plain": [
       "True"
      ]
     },
     "execution_count": 88,
     "metadata": {},
     "output_type": "execute_result"
    }
   ],
   "source": [
    "'guido' in tel\n"
   ]
  },
  {
   "cell_type": "code",
   "execution_count": 90,
   "id": "33a19ce4",
   "metadata": {},
   "outputs": [
    {
     "data": {
      "text/plain": [
       "False"
      ]
     },
     "execution_count": 90,
     "metadata": {},
     "output_type": "execute_result"
    }
   ],
   "source": [
    "'shape' in tel"
   ]
  },
  {
   "cell_type": "code",
   "execution_count": null,
   "id": "56b9f038",
   "metadata": {},
   "outputs": [],
   "source": []
  }
 ],
 "metadata": {
  "kernelspec": {
   "display_name": "Python 3",
   "language": "python",
   "name": "python3"
  },
  "language_info": {
   "codemirror_mode": {
    "name": "ipython",
    "version": 3
   },
   "file_extension": ".py",
   "mimetype": "text/x-python",
   "name": "python",
   "nbconvert_exporter": "python",
   "pygments_lexer": "ipython3",
   "version": "3.12.4"
  }
 },
 "nbformat": 4,
 "nbformat_minor": 5
}
