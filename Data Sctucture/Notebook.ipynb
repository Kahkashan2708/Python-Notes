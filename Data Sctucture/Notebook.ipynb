{
 "cells": [
  {
   "cell_type": "markdown",
   "id": "83bb0b91",
   "metadata": {},
   "source": [
    "# Data Structures\n",
    "---"
   ]
  },
  {
   "cell_type": "markdown",
   "id": "5762a968",
   "metadata": {},
   "source": [
    "### **$$List$$**"
   ]
  },
  {
   "cell_type": "markdown",
   "id": "c7e46765",
   "metadata": {},
   "source": [
    "1. **list.append(x)** : Adds a single element to the end of the list"
   ]
  },
  {
   "cell_type": "code",
   "execution_count": 1,
   "id": "8b64dd81",
   "metadata": {},
   "outputs": [
    {
     "name": "stdout",
     "output_type": "stream",
     "text": [
      "[1, 2, 3, 4]\n"
     ]
    }
   ],
   "source": [
    "a= [1,2,3]\n",
    "a.append(4)\n",
    "print(a)"
   ]
  },
  {
   "cell_type": "markdown",
   "id": "2397061a",
   "metadata": {},
   "source": [
    "2. **list.extend(iterable)**: Adds all elements from another iterable (list, tuple, string etc.) to the list."
   ]
  },
  {
   "cell_type": "code",
   "execution_count": null,
   "id": "d579cb95",
   "metadata": {},
   "outputs": [
    {
     "name": "stdout",
     "output_type": "stream",
     "text": [
      "[1, 2, 3, 4]\n"
     ]
    }
   ],
   "source": [
    "a=[1,2]\n",
    "a.extend([3,4])  # list\n",
    "print(a)"
   ]
  },
  {
   "cell_type": "code",
   "execution_count": null,
   "id": "899385c9",
   "metadata": {},
   "outputs": [
    {
     "name": "stdout",
     "output_type": "stream",
     "text": [
      "[5, 6, 1, 2, 3]\n"
     ]
    }
   ],
   "source": [
    "b= [5,6]\n",
    "b.extend((1,2,3))  # tuple\n",
    "print(b)"
   ]
  },
  {
   "cell_type": "markdown",
   "id": "a7c77430",
   "metadata": {},
   "source": [
    "3. **list.insert(i,x)**: Inserts an element at a specific index (i: index) without replacing the existing elements."
   ]
  },
  {
   "cell_type": "code",
   "execution_count": 6,
   "id": "4c39a09c",
   "metadata": {},
   "outputs": [
    {
     "name": "stdout",
     "output_type": "stream",
     "text": [
      "[1, 2, 3]\n"
     ]
    }
   ],
   "source": [
    "a= [1,3]\n",
    "a.insert(1,2)  # insert 2 at index 1\n",
    "print(a)"
   ]
  },
  {
   "cell_type": "code",
   "execution_count": 7,
   "id": "a93f3212",
   "metadata": {},
   "outputs": [
    {
     "name": "stdout",
     "output_type": "stream",
     "text": [
      "['apple', 'banana', 'orange', 'cherry']\n"
     ]
    }
   ],
   "source": [
    "a = ['apple', 'banana', 'cherry']   \n",
    "a.insert(2, 'orange')\n",
    "print(a) "
   ]
  },
  {
   "cell_type": "markdown",
   "id": "e55bc5a3",
   "metadata": {},
   "source": [
    "4. **list.remove(x)**: Remove the first occurance of the value from the list"
   ]
  },
  {
   "cell_type": "code",
   "execution_count": 9,
   "id": "40e0e3a5",
   "metadata": {},
   "outputs": [
    {
     "name": "stdout",
     "output_type": "stream",
     "text": [
      "[1, 3, 4, 2]\n"
     ]
    }
   ],
   "source": [
    "a =[1,2,3,4,2]\n",
    "a.remove(2)\n",
    "print(a)"
   ]
  },
  {
   "cell_type": "markdown",
   "id": "3c4ae3f8",
   "metadata": {},
   "source": [
    "5. **list.pop([i])**: Removes and returns the element at index 'i'. If no index is given then removes the last item of the list."
   ]
  },
  {
   "cell_type": "code",
   "execution_count": null,
   "id": "ef5a674c",
   "metadata": {},
   "outputs": [
    {
     "name": "stdout",
     "output_type": "stream",
     "text": [
      "[10, 20, 40, 50]\n"
     ]
    }
   ],
   "source": [
    "a = [10, 20, 30, 40, 50]\n",
    "a.pop(2)   # print 30\n",
    "print(a)"
   ]
  },
  {
   "cell_type": "code",
   "execution_count": null,
   "id": "f4fcbc53",
   "metadata": {},
   "outputs": [],
   "source": []
  }
 ],
 "metadata": {
  "kernelspec": {
   "display_name": "Python 3",
   "language": "python",
   "name": "python3"
  },
  "language_info": {
   "codemirror_mode": {
    "name": "ipython",
    "version": 3
   },
   "file_extension": ".py",
   "mimetype": "text/x-python",
   "name": "python",
   "nbconvert_exporter": "python",
   "pygments_lexer": "ipython3",
   "version": "3.12.4"
  }
 },
 "nbformat": 4,
 "nbformat_minor": 5
}
